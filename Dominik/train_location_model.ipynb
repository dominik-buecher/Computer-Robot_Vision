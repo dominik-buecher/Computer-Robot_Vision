{
 "cells": [
  {
   "cell_type": "code",
   "execution_count": null,
   "metadata": {},
   "outputs": [],
   "source": [
    "import cv2"
   ]
  },
  {
   "cell_type": "code",
   "execution_count": null,
   "metadata": {},
   "outputs": [],
   "source": [
    "# Pfade zu positiven und negativen Bildern\n",
    "positive_images_path = 'positive_images/'\n",
    "negative_images_path = 'negative_images/'\n",
    "\n",
    "# Pfad zum speichern des trainierten Modells\n",
    "cascade_model_path = 'trained_model.xml'"
   ]
  },
  {
   "cell_type": "code",
   "execution_count": null,
   "metadata": {},
   "outputs": [],
   "source": [
    "# Trainieren des Cascaden-Modells\n",
    "cv2.samples_create_samples_from_info(\n",
    "    'info.dat', positive_images_path, negative_images_path,\n",
    "    img_size=(50, 50), num_samples=1000, bg_color=(0, 0, 0),\n",
    "    invert=False, max_horizontal_shift=0, max_vertical_shift=0,\n",
    "    max_rotation_angle=0, max_scale_factor=0\n",
    ")\n",
    "\n",
    "cv2.traincascade(cv2.CascadeClassifier_create(), 'info.dat',\n",
    "                 'cascade_model.xml', numPos=1000, numNeg=500,\n",
    "                 numStages=20, minHitRate=0.999, maxFalseAlarmRate=0.5,\n",
    "                 stages=None, features=None)"
   ]
  }
 ],
 "metadata": {
  "language_info": {
   "name": "python"
  }
 },
 "nbformat": 4,
 "nbformat_minor": 2
}
