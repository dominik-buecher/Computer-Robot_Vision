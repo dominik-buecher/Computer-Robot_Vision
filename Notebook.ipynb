{
 "cells": [
  {
   "cell_type": "markdown",
   "metadata": {},
   "source": [
    "# Computer and Robot Vision project\n",
    "\n",
    "The following notebook is about...\n",
    "\n",
    "---\n",
    "\n",
    "**Author:**\n",
    "\n",
    "Dominik Bücher, Hochschuhle Heilbronn, Automotive System Engineering Master | dbuecher@stud.hs-heilbronn.de\n",
    "\n",
    "Aaron Kiani, Hochschuhle Heilbronn, Mechatronik und Robotik Master | akiani@stud.hs-heilbronn.de\n",
    "\n",
    "\n",
    "**Professor:**\n",
    "\n",
    "Prof. Dr. Dieter Maier \n",
    "\n",
    "dieter.maier@hs-heilbronn.de\n",
    "\n",
    "---"
   ]
  },
  {
   "cell_type": "markdown",
   "metadata": {},
   "source": [
    "## Table of Contents\n",
    "\n",
    "#### 1. [Introduction](#Introduction)\n",
    "#### 2. [Import of Librarys](#Import)"
   ]
  },
  {
   "cell_type": "code",
   "execution_count": null,
   "metadata": {
    "vscode": {
     "languageId": "plaintext"
    }
   },
   "outputs": [],
   "source": []
  }
 ],
 "metadata": {
  "language_info": {
   "name": "python"
  }
 },
 "nbformat": 4,
 "nbformat_minor": 2
}
